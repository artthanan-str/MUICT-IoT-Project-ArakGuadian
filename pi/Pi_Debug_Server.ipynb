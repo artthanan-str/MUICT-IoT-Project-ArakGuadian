{
 "cells": [
  {
   "cell_type": "code",
   "execution_count": 10,
   "metadata": {},
   "outputs": [
    {
     "name": "stdout",
     "output_type": "stream",
     "text": [
      "b'{\"status\":\"Received Message Successfully\"}'\n"
     ]
    }
   ],
   "source": [
    "import requests\n",
    "import time as time\n",
    "import json\n",
    "import time\n",
    "\n",
    "url = \"http://itcs446-raspiproject.appspot.com/GetRPIData\"\n",
    "\n",
    "humid_value = 60\n",
    "temp_value = 50\n",
    "flame_value = 30\n",
    "isFired = False\n",
    "\n",
    "\n",
    "data = {'type': 'rpi_data','humidity': humid_value,'temperature': temp_value,'flame': flame_value}\n",
    "r = requests.post(url, data)\n",
    "print(r.content)"
   ]
  },
  {
   "cell_type": "code",
   "execution_count": null,
   "metadata": {},
   "outputs": [],
   "source": []
  }
 ],
 "metadata": {
  "kernelspec": {
   "display_name": "Python 3",
   "language": "python",
   "name": "python3"
  }
 },
 "nbformat": 4,
 "nbformat_minor": 2
}
